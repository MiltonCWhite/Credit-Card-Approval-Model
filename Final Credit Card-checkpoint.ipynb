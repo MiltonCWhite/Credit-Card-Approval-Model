{
 "cells": [
  {
   "cell_type": "code",
   "execution_count": 3,
   "id": "434d5a21",
   "metadata": {},
   "outputs": [],
   "source": [
    "import numpy as np\n",
    "import pandas as pd\n",
    "import plotly.graph_objects as go\n",
    "import seaborn as sns\n",
    "import matplotlib.pyplot as plt\n",
    "%matplotlib inline\n",
    "from sklearn.preprocessing import StandardScaler, LabelEncoder\n",
    "from sklearn.model_selection import train_test_split \n",
    "from sklearn.linear_model import LogisticRegression\n",
    "from sklearn.neighbors import KNeighborsClassifier \n",
    "from sklearn.ensemble import RandomForestClassifier\n",
    "from sklearn.svm import SVC\n",
    "from sklearn import svm\n",
    "from sklearn.metrics import classification_report,confusion_matrix, accuracy_score\n",
    "from sklearn.preprocessing import MinMaxScaler\n",
    "from sklearn.feature_selection import RFE"
   ]
  },
  {
   "cell_type": "code",
   "execution_count": 4,
   "id": "7ec05bf7",
   "metadata": {},
   "outputs": [],
   "source": [
    "cd = pd.read_csv('clean_dataset.csv')"
   ]
  },
  {
   "cell_type": "code",
   "execution_count": 5,
   "id": "19c383f9",
   "metadata": {},
   "outputs": [],
   "source": [
    "cd.drop(columns = ['DriversLicense'],inplace=True)\n",
    "cd.drop(columns = ['ZipCode'],inplace=True)"
   ]
  },
  {
   "cell_type": "code",
   "execution_count": 6,
   "id": "9f23471c",
   "metadata": {},
   "outputs": [
    {
     "name": "stdout",
     "output_type": "stream",
     "text": [
      "<class 'pandas.core.frame.DataFrame'>\n",
      "RangeIndex: 690 entries, 0 to 689\n",
      "Data columns (total 14 columns):\n",
      " #   Column         Non-Null Count  Dtype  \n",
      "---  ------         --------------  -----  \n",
      " 0   Gender         690 non-null    int64  \n",
      " 1   Age            690 non-null    float64\n",
      " 2   Debt           690 non-null    float64\n",
      " 3   Married        690 non-null    int64  \n",
      " 4   BankCustomer   690 non-null    int64  \n",
      " 5   Industry       690 non-null    object \n",
      " 6   Ethnicity      690 non-null    object \n",
      " 7   YearsEmployed  690 non-null    float64\n",
      " 8   PriorDefault   690 non-null    int64  \n",
      " 9   Employed       690 non-null    int64  \n",
      " 10  CreditScore    690 non-null    int64  \n",
      " 11  Citizen        690 non-null    object \n",
      " 12  Income         690 non-null    int64  \n",
      " 13  Approved       690 non-null    int64  \n",
      "dtypes: float64(3), int64(8), object(3)\n",
      "memory usage: 75.6+ KB\n"
     ]
    }
   ],
   "source": [
    "cd.info()"
   ]
  },
  {
   "cell_type": "code",
   "execution_count": 7,
   "id": "04ff96ba",
   "metadata": {},
   "outputs": [
    {
     "data": {
      "text/html": [
       "<div>\n",
       "<style scoped>\n",
       "    .dataframe tbody tr th:only-of-type {\n",
       "        vertical-align: middle;\n",
       "    }\n",
       "\n",
       "    .dataframe tbody tr th {\n",
       "        vertical-align: top;\n",
       "    }\n",
       "\n",
       "    .dataframe thead th {\n",
       "        text-align: right;\n",
       "    }\n",
       "</style>\n",
       "<table border=\"1\" class=\"dataframe\">\n",
       "  <thead>\n",
       "    <tr style=\"text-align: right;\">\n",
       "      <th></th>\n",
       "      <th>Gender</th>\n",
       "      <th>Age</th>\n",
       "      <th>Debt</th>\n",
       "      <th>Married</th>\n",
       "      <th>BankCustomer</th>\n",
       "      <th>Industry</th>\n",
       "      <th>Ethnicity</th>\n",
       "      <th>YearsEmployed</th>\n",
       "      <th>PriorDefault</th>\n",
       "      <th>Employed</th>\n",
       "      <th>CreditScore</th>\n",
       "      <th>Citizen</th>\n",
       "      <th>Income</th>\n",
       "      <th>Approved</th>\n",
       "    </tr>\n",
       "  </thead>\n",
       "  <tbody>\n",
       "    <tr>\n",
       "      <th>0</th>\n",
       "      <td>1</td>\n",
       "      <td>30.83</td>\n",
       "      <td>0.000</td>\n",
       "      <td>1</td>\n",
       "      <td>1</td>\n",
       "      <td>Industrials</td>\n",
       "      <td>White</td>\n",
       "      <td>1.25</td>\n",
       "      <td>1</td>\n",
       "      <td>1</td>\n",
       "      <td>1</td>\n",
       "      <td>ByBirth</td>\n",
       "      <td>0</td>\n",
       "      <td>1</td>\n",
       "    </tr>\n",
       "    <tr>\n",
       "      <th>1</th>\n",
       "      <td>0</td>\n",
       "      <td>58.67</td>\n",
       "      <td>4.460</td>\n",
       "      <td>1</td>\n",
       "      <td>1</td>\n",
       "      <td>Materials</td>\n",
       "      <td>Black</td>\n",
       "      <td>3.04</td>\n",
       "      <td>1</td>\n",
       "      <td>1</td>\n",
       "      <td>6</td>\n",
       "      <td>ByBirth</td>\n",
       "      <td>560</td>\n",
       "      <td>1</td>\n",
       "    </tr>\n",
       "    <tr>\n",
       "      <th>2</th>\n",
       "      <td>0</td>\n",
       "      <td>24.50</td>\n",
       "      <td>0.500</td>\n",
       "      <td>1</td>\n",
       "      <td>1</td>\n",
       "      <td>Materials</td>\n",
       "      <td>Black</td>\n",
       "      <td>1.50</td>\n",
       "      <td>1</td>\n",
       "      <td>0</td>\n",
       "      <td>0</td>\n",
       "      <td>ByBirth</td>\n",
       "      <td>824</td>\n",
       "      <td>1</td>\n",
       "    </tr>\n",
       "    <tr>\n",
       "      <th>3</th>\n",
       "      <td>1</td>\n",
       "      <td>27.83</td>\n",
       "      <td>1.540</td>\n",
       "      <td>1</td>\n",
       "      <td>1</td>\n",
       "      <td>Industrials</td>\n",
       "      <td>White</td>\n",
       "      <td>3.75</td>\n",
       "      <td>1</td>\n",
       "      <td>1</td>\n",
       "      <td>5</td>\n",
       "      <td>ByBirth</td>\n",
       "      <td>3</td>\n",
       "      <td>1</td>\n",
       "    </tr>\n",
       "    <tr>\n",
       "      <th>4</th>\n",
       "      <td>1</td>\n",
       "      <td>20.17</td>\n",
       "      <td>5.625</td>\n",
       "      <td>1</td>\n",
       "      <td>1</td>\n",
       "      <td>Industrials</td>\n",
       "      <td>White</td>\n",
       "      <td>1.71</td>\n",
       "      <td>1</td>\n",
       "      <td>0</td>\n",
       "      <td>0</td>\n",
       "      <td>ByOtherMeans</td>\n",
       "      <td>0</td>\n",
       "      <td>1</td>\n",
       "    </tr>\n",
       "  </tbody>\n",
       "</table>\n",
       "</div>"
      ],
      "text/plain": [
       "   Gender    Age   Debt  Married  BankCustomer     Industry Ethnicity  \\\n",
       "0       1  30.83  0.000        1             1  Industrials     White   \n",
       "1       0  58.67  4.460        1             1    Materials     Black   \n",
       "2       0  24.50  0.500        1             1    Materials     Black   \n",
       "3       1  27.83  1.540        1             1  Industrials     White   \n",
       "4       1  20.17  5.625        1             1  Industrials     White   \n",
       "\n",
       "   YearsEmployed  PriorDefault  Employed  CreditScore       Citizen  Income  \\\n",
       "0           1.25             1         1            1       ByBirth       0   \n",
       "1           3.04             1         1            6       ByBirth     560   \n",
       "2           1.50             1         0            0       ByBirth     824   \n",
       "3           3.75             1         1            5       ByBirth       3   \n",
       "4           1.71             1         0            0  ByOtherMeans       0   \n",
       "\n",
       "   Approved  \n",
       "0         1  \n",
       "1         1  \n",
       "2         1  \n",
       "3         1  \n",
       "4         1  "
      ]
     },
     "execution_count": 7,
     "metadata": {},
     "output_type": "execute_result"
    }
   ],
   "source": [
    "cd.head()"
   ]
  },
  {
   "cell_type": "code",
   "execution_count": 8,
   "id": "d7f84ca3",
   "metadata": {},
   "outputs": [],
   "source": [
    "int_cols = ['Gender', 'Married', 'BankCustomer', 'PriorDefault', 'Employed', 'Approved']\n",
    "float_cols = ['Age', 'Debt', 'YearsEmployed', 'CreditScore', 'Income']\n",
    "object_cols = ['Industry', 'Ethnicity', 'Citizen']"
   ]
  },
  {
   "cell_type": "code",
   "execution_count": 9,
   "id": "38c51156",
   "metadata": {},
   "outputs": [],
   "source": [
    "plt.rcParams['figure.figsize'] = (12, 10)\n",
    "font_fmt = {'fontweight': 'bold',\n",
    "           'fontsize': 18}"
   ]
  },
  {
   "cell_type": "code",
   "execution_count": 10,
   "id": "e357aa1a",
   "metadata": {
    "scrolled": true
   },
   "outputs": [
    {
     "data": {
      "image/png": "[encoded data removed]",
      "text/plain": [
       "<Figure size 1152x720 with 5 Axes>"
      ]
     },
     "metadata": {
      "needs_background": "light"
     },
     "output_type": "display_data"
    }
   ],
   "source": [
    "plt.figure(figsize=(16, 10))\n",
    "for i, plot in enumerate(int_cols):\n",
    "    if plot != 'Approved':\n",
    "        plt.subplot(int(f'33{i+1}'))\n",
    "        plt.title(f'{plot} By Approval', fontdict=font_fmt)\n",
    "        plt.subplots_adjust(hspace=0.3)\n",
    "        sns.countplot(data=cd, x='Approved', hue=plot)\n",
    "        plt.xlabel('')\n",
    "        plt.legend(['Not Approved', 'Approved'], loc='upper right')\n",
    "plt.show()"
   ]
  },
  {
   "cell_type": "code",
   "execution_count": 11,
   "id": "7aaa067a",
   "metadata": {},
   "outputs": [
    {
     "data": {
      "image/png": "[encoded data removed]",
      "text/plain": [
       "<Figure size 1440x720 with 5 Axes>"
      ]
     },
     "metadata": {
      "needs_background": "light"
     },
     "output_type": "display_data"
    }
   ],
   "source": [
    "plt.figure(figsize=(20, 10))\n",
    "for i, plot in enumerate(float_cols):\n",
    "    plt.subplot(int(f'23{i+1}'))\n",
    "    plt.title(f'{plot} By Approval', fontdict=font_fmt)\n",
    "    plt.subplots_adjust(hspace=0.2)\n",
    "    sns.boxplot(data=cd, y=plot, x='Approved')\n",
    "    plt.xlabel('')\n",
    "plt.show()"
   ]
  },
  {
   "cell_type": "code",
   "execution_count": 12,
   "id": "2d09d52f",
   "metadata": {},
   "outputs": [
    {
     "name": "stdout",
     "output_type": "stream",
     "text": [
      "--- Age (Not Approved) ---\n",
      "count    383.000000\n",
      "mean      29.773029\n",
      "std       10.777571\n",
      "min       15.170000\n",
      "25%       22.125000\n",
      "50%       27.670000\n",
      "75%       34.790000\n",
      "max       80.250000\n",
      "Name: Age, dtype: float64\n",
      "\n",
      "\n",
      "--- Age (Approved) ---\n",
      "count    307.000000\n",
      "mean      33.686221\n",
      "std       12.774745\n",
      "min       13.750000\n",
      "25%       23.210000\n",
      "50%       30.170000\n",
      "75%       41.330000\n",
      "max       76.750000\n",
      "Name: Age, dtype: float64\n",
      "\n",
      "\n",
      "--- Debt (Not Approved) ---\n",
      "count    383.000000\n",
      "mean       3.839948\n",
      "std        4.337662\n",
      "min        0.000000\n",
      "25%        0.835000\n",
      "50%        2.210000\n",
      "75%        5.000000\n",
      "max       26.335000\n",
      "Name: Debt, dtype: float64\n",
      "\n",
      "\n",
      "--- Debt (Approved) ---\n",
      "count    307.000000\n",
      "mean       5.904951\n",
      "std        5.471485\n",
      "min        0.000000\n",
      "25%        1.500000\n",
      "50%        4.460000\n",
      "75%        9.520000\n",
      "max       28.000000\n",
      "Name: Debt, dtype: float64\n",
      "\n",
      "\n",
      "--- YearsEmployed (Not Approved) ---\n",
      "count    383.000000\n",
      "mean       1.257924\n",
      "std        2.120481\n",
      "min        0.000000\n",
      "25%        0.125000\n",
      "50%        0.415000\n",
      "75%        1.500000\n",
      "max       13.875000\n",
      "Name: YearsEmployed, dtype: float64\n",
      "\n",
      "\n",
      "--- YearsEmployed (Approved) ---\n",
      "count    307.000000\n",
      "mean       3.427899\n",
      "std        4.120792\n",
      "min        0.000000\n",
      "25%        0.750000\n",
      "50%        2.000000\n",
      "75%        5.000000\n",
      "max       28.500000\n",
      "Name: YearsEmployed, dtype: float64\n",
      "\n",
      "\n",
      "--- CreditScore (Not Approved) ---\n",
      "count    383.000000\n",
      "mean       0.631854\n",
      "std        1.900049\n",
      "min        0.000000\n",
      "25%        0.000000\n",
      "50%        0.000000\n",
      "75%        0.000000\n",
      "max       20.000000\n",
      "Name: CreditScore, dtype: float64\n",
      "\n",
      "\n",
      "--- CreditScore (Approved) ---\n",
      "count    307.000000\n",
      "mean       4.605863\n",
      "std        6.320242\n",
      "min        0.000000\n",
      "25%        0.000000\n",
      "50%        3.000000\n",
      "75%        7.000000\n",
      "max       67.000000\n",
      "Name: CreditScore, dtype: float64\n",
      "\n",
      "\n",
      "--- Income (Not Approved) ---\n",
      "count     383.000000\n",
      "mean      198.605744\n",
      "std       671.608839\n",
      "min         0.000000\n",
      "25%         0.000000\n",
      "50%         1.000000\n",
      "75%        67.000000\n",
      "max      5552.000000\n",
      "Name: Income, dtype: float64\n",
      "\n",
      "\n",
      "--- Income (Approved) ---\n",
      "count       307.000000\n",
      "mean       2038.859935\n",
      "std        7659.763941\n",
      "min           0.000000\n",
      "25%           0.000000\n",
      "50%         221.000000\n",
      "75%        1209.000000\n",
      "max      100000.000000\n",
      "Name: Income, dtype: float64\n",
      "\n",
      "\n"
     ]
    }
   ],
   "source": [
    "for col in float_cols:\n",
    "    for a in range(2):\n",
    "        if a == 0:\n",
    "            print(f'--- {col} (Not Approved) ---')\n",
    "        else:\n",
    "            print(f'--- {col} (Approved) ---')\n",
    "        print(cd[col][cd['Approved']==a].describe())\n",
    "        print('\\n')"
   ]
  },
  {
   "cell_type": "code",
   "execution_count": 13,
   "id": "b02bcf2c",
   "metadata": {},
   "outputs": [
    {
     "data": {
      "text/plain": [
       "<Figure size 1008x576 with 0 Axes>"
      ]
     },
     "metadata": {},
     "output_type": "display_data"
    },
    {
     "data": {
      "image/png": "[encoded data removed]",
      "text/plain": [
       "<Figure size 864x432 with 2 Axes>"
      ]
     },
     "metadata": {
      "needs_background": "light"
     },
     "output_type": "display_data"
    },
    {
     "data": {
      "image/png": "[encoded data removed]",
      "text/plain": [
       "<Figure size 864x432 with 2 Axes>"
      ]
     },
     "metadata": {
      "needs_background": "light"
     },
     "output_type": "display_data"
    },
    {
     "data": {
      "image/png": "[encoded data removed]",
      "text/plain": [
       "<Figure size 864x432 with 2 Axes>"
      ]
     },
     "metadata": {
      "needs_background": "light"
     },
     "output_type": "display_data"
    }
   ],
   "source": [
    "plt.figure(figsize=(14, 8))\n",
    "for i, plot in enumerate(object_cols):\n",
    "    sns.catplot(y=plot, col=\"Approved\", data=cd, kind=\"count\", height=6, aspect=1, \n",
    "                order=cd[plot].value_counts().index)\n",
    "plt.show()"
   ]
  },
  {
   "cell_type": "code",
   "execution_count": 14,
   "id": "da810d23",
   "metadata": {},
   "outputs": [
    {
     "data": {
      "text/plain": [
       "0    383\n",
       "1    307\n",
       "Name: Approved, dtype: int64"
      ]
     },
     "execution_count": 14,
     "metadata": {},
     "output_type": "execute_result"
    }
   ],
   "source": [
    "cd['Approved'].value_counts()"
   ]
  },
  {
   "cell_type": "code",
   "execution_count": 15,
   "id": "7b99e07b",
   "metadata": {},
   "outputs": [
    {
     "name": "stdout",
     "output_type": "stream",
     "text": [
      "<class 'pandas.core.frame.DataFrame'>\n",
      "RangeIndex: 690 entries, 0 to 689\n",
      "Data columns (total 14 columns):\n",
      " #   Column         Non-Null Count  Dtype  \n",
      "---  ------         --------------  -----  \n",
      " 0   Gender         690 non-null    int64  \n",
      " 1   Age            690 non-null    float64\n",
      " 2   Debt           690 non-null    float64\n",
      " 3   Married        690 non-null    int64  \n",
      " 4   BankCustomer   690 non-null    int64  \n",
      " 5   Industry       690 non-null    object \n",
      " 6   Ethnicity      690 non-null    object \n",
      " 7   YearsEmployed  690 non-null    float64\n",
      " 8   PriorDefault   690 non-null    int64  \n",
      " 9   Employed       690 non-null    int64  \n",
      " 10  CreditScore    690 non-null    int64  \n",
      " 11  Citizen        690 non-null    object \n",
      " 12  Income         690 non-null    int64  \n",
      " 13  Approved       690 non-null    int64  \n",
      "dtypes: float64(3), int64(8), object(3)\n",
      "memory usage: 75.6+ KB\n"
     ]
    }
   ],
   "source": [
    "cd.info()"
   ]
  },
  {
   "cell_type": "code",
   "execution_count": 16,
   "id": "bbf3f5a3",
   "metadata": {},
   "outputs": [],
   "source": [
    "def Cat_to_Num(features):\n",
    "    for feature in features:\n",
    "        feature_list = list(np.unique(cd[feature]))\n",
    "        feature_dict = {}\n",
    "        for i in range(len(feature_list)):\n",
    "                       feature_dict[feature_list[i]] = i\n",
    "        cd.replace({feature : feature_dict}, inplace=True)\n",
    "        print(feature, '-->', feature_dict)"
   ]
  },
  {
   "cell_type": "code",
   "execution_count": 17,
   "id": "8241d9ad",
   "metadata": {},
   "outputs": [
    {
     "name": "stdout",
     "output_type": "stream",
     "text": [
      "Industry --> {'CommunicationServices': 0, 'ConsumerDiscretionary': 1, 'ConsumerStaples': 2, 'Education': 3, 'Energy': 4, 'Financials': 5, 'Healthcare': 6, 'Industrials': 7, 'InformationTechnology': 8, 'Materials': 9, 'Real Estate': 10, 'Research': 11, 'Transport': 12, 'Utilities': 13}\n",
      "Ethnicity --> {'Asian': 0, 'Black': 1, 'Latino': 2, 'Other': 3, 'White': 4}\n",
      "Citizen --> {'ByBirth': 0, 'ByOtherMeans': 1, 'Temporary': 2}\n"
     ]
    }
   ],
   "source": [
    "categorical_features = ['Industry', 'Ethnicity', 'Citizen'] \n",
    "Cat_to_Num(categorical_features)"
   ]
  },
  {
   "cell_type": "code",
   "execution_count": 18,
   "id": "77ec481b",
   "metadata": {},
   "outputs": [],
   "source": [
    "X=cd.drop('Approved',axis=1)\n",
    "y=cd['Approved']"
   ]
  },
  {
   "cell_type": "code",
   "execution_count": 19,
   "id": "b9a0bc2b",
   "metadata": {},
   "outputs": [],
   "source": [
    "LE=LabelEncoder()\n",
    "for col in cd.columns:\n",
    "    if cd[col].dtypes == object:\n",
    "        cd[col]= LE.fit_transform(cd[col])"
   ]
  },
  {
   "cell_type": "code",
   "execution_count": 20,
   "id": "c9b9b4ea",
   "metadata": {},
   "outputs": [
    {
     "data": {
      "text/plain": [
       "Gender             int64\n",
       "Age              float64\n",
       "Debt             float64\n",
       "Married            int64\n",
       "BankCustomer       int64\n",
       "Industry           int64\n",
       "Ethnicity          int64\n",
       "YearsEmployed    float64\n",
       "PriorDefault       int64\n",
       "Employed           int64\n",
       "CreditScore        int64\n",
       "Citizen            int64\n",
       "Income             int64\n",
       "Approved           int64\n",
       "dtype: object"
      ]
     },
     "execution_count": 20,
     "metadata": {},
     "output_type": "execute_result"
    }
   ],
   "source": [
    "cd.dtypes"
   ]
  },
  {
   "cell_type": "code",
   "execution_count": 21,
   "id": "2e92f0b1",
   "metadata": {},
   "outputs": [],
   "source": [
    "x_train,x_test,y_train,y_test = train_test_split(X,y,test_size=0.25,random_state=42)"
   ]
  },
  {
   "cell_type": "code",
   "execution_count": 22,
   "id": "97507377",
   "metadata": {},
   "outputs": [],
   "source": [
    "sc = StandardScaler()\n",
    "x_train = sc.fit_transform(x_train)\n",
    "x_test  = sc.fit_transform(x_test)"
   ]
  },
  {
   "cell_type": "code",
   "execution_count": 23,
   "id": "3bb78dd1",
   "metadata": {},
   "outputs": [],
   "source": [
    "knn = KNeighborsClassifier(n_neighbors=1)\n",
    "knn.fit(x_train,y_train)\n",
    "y_pred = knn.predict(x_test)"
   ]
  },
  {
   "cell_type": "code",
   "execution_count": 24,
   "id": "ae470e72",
   "metadata": {},
   "outputs": [
    {
     "name": "stdout",
     "output_type": "stream",
     "text": [
      "              precision    recall  f1-score   support\n",
      "\n",
      "           0       0.77      0.85      0.81        91\n",
      "           1       0.81      0.72      0.76        82\n",
      "\n",
      "    accuracy                           0.79       173\n",
      "   macro avg       0.79      0.78      0.78       173\n",
      "weighted avg       0.79      0.79      0.78       173\n",
      "\n"
     ]
    },
    {
     "data": {
      "text/plain": [
       "array([[77, 14],\n",
       "       [23, 59]], dtype=int64)"
      ]
     },
     "execution_count": 24,
     "metadata": {},
     "output_type": "execute_result"
    }
   ],
   "source": [
    "#KNeighborsClassifier\n",
    "print(classification_report(y_test,y_pred))\n",
    "confusion_matrix(y_test, y_pred)"
   ]
  },
  {
   "cell_type": "code",
   "execution_count": 25,
   "id": "f097d7f1",
   "metadata": {},
   "outputs": [
    {
     "data": {
      "text/plain": [
       "78.61271676300578"
      ]
     },
     "execution_count": 25,
     "metadata": {},
     "output_type": "execute_result"
    }
   ],
   "source": [
    "knn_acc = knn.score(x_test, y_test)*100\n",
    "knn_acc"
   ]
  },
  {
   "cell_type": "code",
   "execution_count": 26,
   "id": "de01e7e7",
   "metadata": {},
   "outputs": [
    {
     "data": {
      "text/plain": [
       "LogisticRegression(random_state=42)"
      ]
     },
     "execution_count": 26,
     "metadata": {},
     "output_type": "execute_result"
    }
   ],
   "source": [
    "classifier=LogisticRegression(random_state=42)\n",
    "classifier.fit(x_train,y_train)"
   ]
  },
  {
   "cell_type": "code",
   "execution_count": 27,
   "id": "e1131e25",
   "metadata": {},
   "outputs": [
    {
     "data": {
      "text/plain": [
       "array([0, 1, 0, 0, 0, 1, 0, 1, 0, 0, 0, 1, 0, 1, 0, 1, 0, 0, 0, 0, 0, 0,\n",
       "       0, 1, 0, 0, 1, 1, 0, 0, 1, 1, 1, 1, 1, 1, 1, 1, 1, 1, 1, 1, 0, 1,\n",
       "       0, 1, 0, 0, 0, 0, 0, 0, 0, 0, 1, 0, 1, 0, 1, 0, 1, 1, 1, 0, 0, 1,\n",
       "       1, 0, 1, 0, 0, 1, 0, 1, 0, 0, 0, 0, 1, 0, 1, 1, 0, 0, 1, 0, 1, 1,\n",
       "       1, 1, 0, 0, 1, 1, 1, 1, 1, 1, 0, 0, 0, 0, 1, 1, 1, 1, 0, 1, 0, 1,\n",
       "       0, 1, 1, 0, 1, 0, 1, 1, 0, 1, 0, 0, 1, 0, 0, 1, 0, 0, 1, 1, 1, 0,\n",
       "       1, 0, 1, 1, 1, 1, 0, 1, 1, 1, 1, 1, 0, 0, 0, 1, 1, 0, 0, 0, 0, 1,\n",
       "       0, 1, 1, 1, 0, 0, 1, 0, 0, 0, 0, 0, 0, 1, 0, 1, 0, 0, 1],\n",
       "      dtype=int64)"
      ]
     },
     "execution_count": 27,
     "metadata": {},
     "output_type": "execute_result"
    }
   ],
   "source": [
    "y_pred = classifier.predict(x_test)\n",
    "y_pred"
   ]
  },
  {
   "cell_type": "code",
   "execution_count": 28,
   "id": "48809efd",
   "metadata": {},
   "outputs": [
    {
     "name": "stdout",
     "output_type": "stream",
     "text": [
      "              precision    recall  f1-score   support\n",
      "\n",
      "           0       0.86      0.84      0.85        91\n",
      "           1       0.82      0.85      0.84        82\n",
      "\n",
      "    accuracy                           0.84       173\n",
      "   macro avg       0.84      0.84      0.84       173\n",
      "weighted avg       0.84      0.84      0.84       173\n",
      "\n",
      "[[76 15]\n",
      " [12 70]]\n"
     ]
    }
   ],
   "source": [
    "#LogisticRegression\n",
    "cm = confusion_matrix(y_test,y_pred)\n",
    "accuracy_score(y_test,y_pred)\n",
    "print(classification_report(y_test,y_pred))\n",
    "print(cm)"
   ]
  },
  {
   "cell_type": "code",
   "execution_count": 29,
   "id": "8295f16b",
   "metadata": {},
   "outputs": [
    {
     "data": {
      "text/plain": [
       "84.39306358381504"
      ]
     },
     "execution_count": 29,
     "metadata": {},
     "output_type": "execute_result"
    }
   ],
   "source": [
    "log_acc=accuracy_score(y_test,y_pred)*100\n",
    "log_acc"
   ]
  },
  {
   "cell_type": "code",
   "execution_count": 30,
   "id": "c9c524c9",
   "metadata": {},
   "outputs": [
    {
     "data": {
      "text/plain": [
       "RandomForestClassifier(max_features=0.75, random_state=42)"
      ]
     },
     "execution_count": 30,
     "metadata": {},
     "output_type": "execute_result"
    }
   ],
   "source": [
    "rfc = RandomForestClassifier(n_estimators=100,random_state=42,max_features=0.75)\n",
    "rfc.fit(x_train,y_train)"
   ]
  },
  {
   "cell_type": "code",
   "execution_count": 31,
   "id": "2a7ea1d2",
   "metadata": {},
   "outputs": [
    {
     "data": {
      "text/plain": [
       "array([0, 1, 0, 0, 0, 1, 0, 0, 0, 0, 0, 1, 0, 1, 0, 1, 0, 0, 0, 0, 0, 0,\n",
       "       0, 1, 0, 0, 1, 1, 0, 0, 1, 1, 1, 1, 0, 1, 1, 0, 1, 1, 1, 1, 0, 1,\n",
       "       0, 1, 0, 0, 0, 0, 0, 1, 0, 0, 1, 0, 1, 0, 1, 0, 1, 1, 1, 0, 0, 1,\n",
       "       1, 0, 1, 0, 0, 1, 0, 0, 0, 0, 0, 0, 1, 0, 1, 1, 0, 0, 1, 0, 1, 1,\n",
       "       1, 1, 1, 1, 1, 1, 0, 1, 1, 0, 0, 0, 0, 0, 1, 0, 1, 1, 0, 1, 0, 1,\n",
       "       0, 1, 1, 0, 1, 0, 1, 1, 0, 1, 0, 0, 1, 0, 0, 0, 0, 0, 1, 1, 1, 0,\n",
       "       1, 0, 1, 1, 1, 1, 0, 1, 0, 0, 1, 1, 0, 0, 0, 1, 1, 0, 0, 0, 0, 1,\n",
       "       0, 1, 1, 1, 0, 0, 1, 0, 0, 0, 0, 0, 0, 1, 0, 1, 0, 0, 1],\n",
       "      dtype=int64)"
      ]
     },
     "execution_count": 31,
     "metadata": {},
     "output_type": "execute_result"
    }
   ],
   "source": [
    "y_pred_rfc = rfc.predict(x_test)\n",
    "y_pred_rfc"
   ]
  },
  {
   "cell_type": "code",
   "execution_count": 32,
   "id": "baf643e0",
   "metadata": {},
   "outputs": [
    {
     "name": "stdout",
     "output_type": "stream",
     "text": [
      "              precision    recall  f1-score   support\n",
      "\n",
      "           0       0.86      0.90      0.88        91\n",
      "           1       0.88      0.84      0.86        82\n",
      "\n",
      "    accuracy                           0.87       173\n",
      "   macro avg       0.87      0.87      0.87       173\n",
      "weighted avg       0.87      0.87      0.87       173\n",
      "\n",
      "[[82  9]\n",
      " [13 69]]\n"
     ]
    }
   ],
   "source": [
    "#RandomForestClassifier\n",
    "cm = confusion_matrix(y_test,y_pred_rfc)\n",
    "print(classification_report(y_test,y_pred_rfc))\n",
    "print(cm)"
   ]
  },
  {
   "cell_type": "code",
   "execution_count": 33,
   "id": "4c828914",
   "metadata": {},
   "outputs": [
    {
     "data": {
      "text/plain": [
       "87.28323699421965"
      ]
     },
     "execution_count": 33,
     "metadata": {},
     "output_type": "execute_result"
    }
   ],
   "source": [
    "rfc_acc = accuracy_score(y_test,y_pred_rfc)*100\n",
    "rfc_acc"
   ]
  },
  {
   "cell_type": "code",
   "execution_count": 34,
   "id": "644b34de",
   "metadata": {},
   "outputs": [
    {
     "data": {
      "text/plain": [
       "SVC(C=0.01, kernel='linear')"
      ]
     },
     "execution_count": 34,
     "metadata": {},
     "output_type": "execute_result"
    }
   ],
   "source": [
    "from sklearn import svm\n",
    "svm = svm.SVC(kernel='linear',C = 0.01)\n",
    "svm.fit(x_train,y_train)"
   ]
  },
  {
   "cell_type": "code",
   "execution_count": 35,
   "id": "aad88d0c",
   "metadata": {},
   "outputs": [
    {
     "data": {
      "text/plain": [
       "array([0, 1, 0, 0, 0, 1, 0, 1, 0, 0, 0, 1, 0, 1, 0, 1, 0, 0, 0, 0, 0, 0,\n",
       "       0, 1, 0, 0, 1, 1, 0, 0, 1, 1, 1, 1, 1, 1, 1, 1, 1, 1, 1, 1, 0, 1,\n",
       "       0, 1, 0, 0, 1, 0, 0, 1, 0, 0, 1, 0, 1, 0, 1, 0, 1, 1, 1, 1, 0, 1,\n",
       "       1, 1, 1, 0, 0, 1, 0, 1, 0, 0, 0, 1, 1, 0, 1, 1, 0, 0, 1, 0, 1, 1,\n",
       "       1, 1, 1, 1, 1, 1, 1, 1, 1, 1, 0, 0, 0, 0, 1, 1, 1, 1, 0, 1, 0, 1,\n",
       "       0, 1, 1, 1, 1, 0, 1, 1, 0, 1, 0, 0, 1, 0, 0, 1, 0, 0, 1, 1, 1, 0,\n",
       "       1, 0, 1, 1, 1, 1, 0, 1, 1, 1, 1, 1, 0, 0, 0, 1, 1, 0, 0, 0, 0, 1,\n",
       "       0, 1, 1, 1, 0, 0, 1, 0, 0, 0, 0, 0, 0, 1, 0, 1, 0, 0, 1],\n",
       "      dtype=int64)"
      ]
     },
     "execution_count": 35,
     "metadata": {},
     "output_type": "execute_result"
    }
   ],
   "source": [
    "y_pred_svm = svm.predict(x_test)\n",
    "y_pred_svm"
   ]
  },
  {
   "cell_type": "code",
   "execution_count": 36,
   "id": "1a4374f0",
   "metadata": {},
   "outputs": [
    {
     "name": "stdout",
     "output_type": "stream",
     "text": [
      "              precision    recall  f1-score   support\n",
      "\n",
      "           0       0.90      0.79      0.84        91\n",
      "           1       0.80      0.90      0.85        82\n",
      "\n",
      "    accuracy                           0.84       173\n",
      "   macro avg       0.85      0.85      0.84       173\n",
      "weighted avg       0.85      0.84      0.84       173\n",
      "\n",
      "[[72 19]\n",
      " [ 8 74]]\n"
     ]
    }
   ],
   "source": [
    "#Support-Vector-Machine\n",
    "cm = confusion_matrix(y_test,y_pred_svm)\n",
    "print(classification_report(y_test,y_pred_svm))\n",
    "print(cm)"
   ]
  },
  {
   "cell_type": "code",
   "execution_count": 37,
   "id": "5f9420bd",
   "metadata": {},
   "outputs": [
    {
     "data": {
      "text/plain": [
       "84.39306358381504"
      ]
     },
     "execution_count": 37,
     "metadata": {},
     "output_type": "execute_result"
    }
   ],
   "source": [
    "svm_acc = accuracy_score(y_test,y_pred_svm)*100\n",
    "svm_acc"
   ]
  },
  {
   "cell_type": "code",
   "execution_count": 38,
   "id": "8a69e798",
   "metadata": {},
   "outputs": [
    {
     "data": {
      "image/png": "[encoded data removed]",
      "text/plain": [
       "<Figure size 720x432 with 1 Axes>"
      ]
     },
     "metadata": {
      "needs_background": "light"
     },
     "output_type": "display_data"
    }
   ],
   "source": [
    "plt.figure(figsize=(10,6))\n",
    "sns.barplot(x=['KNeighborsClassifier','LogisticRegression','RandomForestClassifier','Support-Vector-Machine'],\n",
    "            y=[knn_acc,log_acc,rfc_acc,svm_acc],\n",
    "            data=cd)\n",
    "plt.title('Accuracy of Predictive Models')\n",
    "plt.show()"
   ]
  },
  {
   "cell_type": "code",
   "execution_count": 39,
   "id": "8a44c60e",
   "metadata": {},
   "outputs": [],
   "source": [
    "sc = MinMaxScaler(feature_range=(0,1))\n",
    "X = sc.fit_transform(X)"
   ]
  },
  {
   "cell_type": "code",
   "execution_count": 40,
   "id": "055db47e",
   "metadata": {},
   "outputs": [],
   "source": [
    "X_train, X_test, y_train, y_test = train_test_split(X, y, test_size=0.2, random_state=10)"
   ]
  },
  {
   "cell_type": "code",
   "execution_count": 41,
   "id": "e362d9c3",
   "metadata": {},
   "outputs": [
    {
     "data": {
      "text/html": [
       "<div>\n",
       "<style scoped>\n",
       "    .dataframe tbody tr th:only-of-type {\n",
       "        vertical-align: middle;\n",
       "    }\n",
       "\n",
       "    .dataframe tbody tr th {\n",
       "        vertical-align: top;\n",
       "    }\n",
       "\n",
       "    .dataframe thead th {\n",
       "        text-align: right;\n",
       "    }\n",
       "</style>\n",
       "<table border=\"1\" class=\"dataframe\">\n",
       "  <thead>\n",
       "    <tr style=\"text-align: right;\">\n",
       "      <th></th>\n",
       "      <th>rank</th>\n",
       "    </tr>\n",
       "  </thead>\n",
       "  <tbody>\n",
       "    <tr>\n",
       "      <th>Industry</th>\n",
       "      <td>1</td>\n",
       "    </tr>\n",
       "    <tr>\n",
       "      <th>YearsEmployed</th>\n",
       "      <td>1</td>\n",
       "    </tr>\n",
       "    <tr>\n",
       "      <th>PriorDefault</th>\n",
       "      <td>1</td>\n",
       "    </tr>\n",
       "    <tr>\n",
       "      <th>Employed</th>\n",
       "      <td>1</td>\n",
       "    </tr>\n",
       "    <tr>\n",
       "      <th>CreditScore</th>\n",
       "      <td>1</td>\n",
       "    </tr>\n",
       "    <tr>\n",
       "      <th>Citizen</th>\n",
       "      <td>1</td>\n",
       "    </tr>\n",
       "    <tr>\n",
       "      <th>Income</th>\n",
       "      <td>2</td>\n",
       "    </tr>\n",
       "    <tr>\n",
       "      <th>BankCustomer</th>\n",
       "      <td>3</td>\n",
       "    </tr>\n",
       "    <tr>\n",
       "      <th>Age</th>\n",
       "      <td>4</td>\n",
       "    </tr>\n",
       "    <tr>\n",
       "      <th>Married</th>\n",
       "      <td>5</td>\n",
       "    </tr>\n",
       "    <tr>\n",
       "      <th>Gender</th>\n",
       "      <td>6</td>\n",
       "    </tr>\n",
       "    <tr>\n",
       "      <th>Debt</th>\n",
       "      <td>7</td>\n",
       "    </tr>\n",
       "    <tr>\n",
       "      <th>Ethnicity</th>\n",
       "      <td>8</td>\n",
       "    </tr>\n",
       "  </tbody>\n",
       "</table>\n",
       "</div>"
      ],
      "text/plain": [
       "               rank\n",
       "Industry          1\n",
       "YearsEmployed     1\n",
       "PriorDefault      1\n",
       "Employed          1\n",
       "CreditScore       1\n",
       "Citizen           1\n",
       "Income            2\n",
       "BankCustomer      3\n",
       "Age               4\n",
       "Married           5\n",
       "Gender            6\n",
       "Debt              7\n",
       "Ethnicity         8"
      ]
     },
     "execution_count": 41,
     "metadata": {},
     "output_type": "execute_result"
    }
   ],
   "source": [
    "rfe = RFE(LogisticRegression(), n_features_to_select=6)\n",
    "rfe.fit(X_train, y_train)\n",
    "cd_rank = pd.DataFrame(data=rfe.ranking_, index=cd.columns[:-1])\n",
    "cd_rank.rename(columns={0:'rank'}, inplace=True)\n",
    "cd_rank.sort_values('rank', ascending=True)"
   ]
  },
  {
   "cell_type": "code",
   "execution_count": null,
   "id": "1149321d",
   "metadata": {},
   "outputs": [],
   "source": []
  }
 ],
 "metadata": {
  "kernelspec": {
   "display_name": "Python 3 (ipykernel)",
   "language": "python",
   "name": "python3"
  },
  "language_info": {
   "codemirror_mode": {
    "name": "ipython",
    "version": 3
   },
   "file_extension": ".py",
   "mimetype": "text/x-python",
   "name": "python",
   "nbconvert_exporter": "python",
   "pygments_lexer": "ipython3",
   "version": "3.9.12"
  }
 },
 "nbformat": 4,
 "nbformat_minor": 5
}
